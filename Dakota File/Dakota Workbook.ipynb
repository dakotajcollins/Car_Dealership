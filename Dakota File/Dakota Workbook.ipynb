{
 "cells": [
  {
   "cell_type": "code",
   "execution_count": 1,
   "id": "6d6e22a5",
   "metadata": {},
   "outputs": [],
   "source": [
    "import pandas as pd\n",
    "import requests\n",
    "import json\n",
    "import csv"
   ]
  },
  {
   "cell_type": "code",
   "execution_count": 2,
   "id": "5e65bf44",
   "metadata": {},
   "outputs": [],
   "source": [
    "url=\" https://data.bts.gov/resource/crem-w557.json?$where=auto_sales!=0\""
   ]
  },
  {
   "cell_type": "code",
   "execution_count": 3,
   "id": "f7937fcb",
   "metadata": {},
   "outputs": [
    {
     "name": "stdout",
     "output_type": "stream",
     "text": [
      "<Response [200]>\n"
     ]
    }
   ],
   "source": [
    "print(requests.get(url))"
   ]
  },
  {
   "cell_type": "code",
   "execution_count": 4,
   "id": "aa62ac72",
   "metadata": {
    "scrolled": false
   },
   "outputs": [
    {
     "data": {
      "text/html": [
       "<div>\n",
       "<style scoped>\n",
       "    .dataframe tbody tr th:only-of-type {\n",
       "        vertical-align: middle;\n",
       "    }\n",
       "\n",
       "    .dataframe tbody tr th {\n",
       "        vertical-align: top;\n",
       "    }\n",
       "\n",
       "    .dataframe thead th {\n",
       "        text-align: right;\n",
       "    }\n",
       "</style>\n",
       "<table border=\"1\" class=\"dataframe\">\n",
       "  <thead>\n",
       "    <tr style=\"text-align: right;\">\n",
       "      <th></th>\n",
       "      <th>date</th>\n",
       "      <th>auto_sales</th>\n",
       "      <th>heavy_truck_sales</th>\n",
       "      <th>light_truck_sales</th>\n",
       "    </tr>\n",
       "  </thead>\n",
       "  <tbody>\n",
       "    <tr>\n",
       "      <th>593</th>\n",
       "      <td>2016-06-01T00:00:00.000</td>\n",
       "      <td>605400.0</td>\n",
       "      <td>35700.0</td>\n",
       "      <td>908600.0</td>\n",
       "    </tr>\n",
       "    <tr>\n",
       "      <th>594</th>\n",
       "      <td>2016-07-01T00:00:00.000</td>\n",
       "      <td>591500.0</td>\n",
       "      <td>30100.0</td>\n",
       "      <td>925900.0</td>\n",
       "    </tr>\n",
       "    <tr>\n",
       "      <th>595</th>\n",
       "      <td>2016-08-01T00:00:00.000</td>\n",
       "      <td>580800.0</td>\n",
       "      <td>33600.0</td>\n",
       "      <td>926400.0</td>\n",
       "    </tr>\n",
       "    <tr>\n",
       "      <th>596</th>\n",
       "      <td>2016-09-01T00:00:00.000</td>\n",
       "      <td>556300.0</td>\n",
       "      <td>32400.0</td>\n",
       "      <td>874700.0</td>\n",
       "    </tr>\n",
       "    <tr>\n",
       "      <th>597</th>\n",
       "      <td>2016-10-01T00:00:00.000</td>\n",
       "      <td>507200.0</td>\n",
       "      <td>29900.0</td>\n",
       "      <td>861300.0</td>\n",
       "    </tr>\n",
       "  </tbody>\n",
       "</table>\n",
       "</div>"
      ],
      "text/plain": [
       "                        date auto_sales heavy_truck_sales light_truck_sales\n",
       "593  2016-06-01T00:00:00.000   605400.0           35700.0          908600.0\n",
       "594  2016-07-01T00:00:00.000   591500.0           30100.0          925900.0\n",
       "595  2016-08-01T00:00:00.000   580800.0           33600.0          926400.0\n",
       "596  2016-09-01T00:00:00.000   556300.0           32400.0          874700.0\n",
       "597  2016-10-01T00:00:00.000   507200.0           29900.0          861300.0"
      ]
     },
     "execution_count": 4,
     "metadata": {},
     "output_type": "execute_result"
    }
   ],
   "source": [
    "response = requests.get(url)\n",
    "response_json = response.json()\n",
    "auto_sales_df=pd.DataFrame(response_json)\n",
    "recent_sales=auto_sales_df.tail(60)\n",
    "recent_sales=recent_sales[[\"date\",\"auto_sales\",\"heavy_truck_sales\",\"light_truck_sales\"]]\n",
    "recent_sales.head()"
   ]
  },
  {
   "cell_type": "code",
   "execution_count": 5,
   "id": "e8e3c5fe",
   "metadata": {},
   "outputs": [
    {
     "data": {
      "text/html": [
       "<div>\n",
       "<style scoped>\n",
       "    .dataframe tbody tr th:only-of-type {\n",
       "        vertical-align: middle;\n",
       "    }\n",
       "\n",
       "    .dataframe tbody tr th {\n",
       "        vertical-align: top;\n",
       "    }\n",
       "\n",
       "    .dataframe thead th {\n",
       "        text-align: right;\n",
       "    }\n",
       "</style>\n",
       "<table border=\"1\" class=\"dataframe\">\n",
       "  <thead>\n",
       "    <tr style=\"text-align: right;\">\n",
       "      <th></th>\n",
       "      <th>date</th>\n",
       "      <th>auto_sales</th>\n",
       "      <th>heavy_truck_sales</th>\n",
       "      <th>light_truck_sales</th>\n",
       "    </tr>\n",
       "  </thead>\n",
       "  <tbody>\n",
       "    <tr>\n",
       "      <th>593</th>\n",
       "      <td>2016</td>\n",
       "      <td>605400.0</td>\n",
       "      <td>35700.0</td>\n",
       "      <td>908600.0</td>\n",
       "    </tr>\n",
       "    <tr>\n",
       "      <th>594</th>\n",
       "      <td>2016</td>\n",
       "      <td>591500.0</td>\n",
       "      <td>30100.0</td>\n",
       "      <td>925900.0</td>\n",
       "    </tr>\n",
       "    <tr>\n",
       "      <th>595</th>\n",
       "      <td>2016</td>\n",
       "      <td>580800.0</td>\n",
       "      <td>33600.0</td>\n",
       "      <td>926400.0</td>\n",
       "    </tr>\n",
       "    <tr>\n",
       "      <th>596</th>\n",
       "      <td>2016</td>\n",
       "      <td>556300.0</td>\n",
       "      <td>32400.0</td>\n",
       "      <td>874700.0</td>\n",
       "    </tr>\n",
       "    <tr>\n",
       "      <th>597</th>\n",
       "      <td>2016</td>\n",
       "      <td>507200.0</td>\n",
       "      <td>29900.0</td>\n",
       "      <td>861300.0</td>\n",
       "    </tr>\n",
       "  </tbody>\n",
       "</table>\n",
       "</div>"
      ],
      "text/plain": [
       "     date auto_sales heavy_truck_sales light_truck_sales\n",
       "593  2016   605400.0           35700.0          908600.0\n",
       "594  2016   591500.0           30100.0          925900.0\n",
       "595  2016   580800.0           33600.0          926400.0\n",
       "596  2016   556300.0           32400.0          874700.0\n",
       "597  2016   507200.0           29900.0          861300.0"
      ]
     },
     "execution_count": 5,
     "metadata": {},
     "output_type": "execute_result"
    }
   ],
   "source": [
    "recent_sales['date']=recent_sales['date'].str.slice(0,4)\n",
    "recent_sales.head()"
   ]
  },
  {
   "cell_type": "code",
   "execution_count": 6,
   "id": "2a3cb4ae",
   "metadata": {},
   "outputs": [
    {
     "data": {
      "text/html": [
       "<div>\n",
       "<style scoped>\n",
       "    .dataframe tbody tr th:only-of-type {\n",
       "        vertical-align: middle;\n",
       "    }\n",
       "\n",
       "    .dataframe tbody tr th {\n",
       "        vertical-align: top;\n",
       "    }\n",
       "\n",
       "    .dataframe thead th {\n",
       "        text-align: right;\n",
       "    }\n",
       "</style>\n",
       "<table border=\"1\" class=\"dataframe\">\n",
       "  <thead>\n",
       "    <tr style=\"text-align: right;\">\n",
       "      <th></th>\n",
       "      <th>date</th>\n",
       "      <th>auto_sales</th>\n",
       "      <th>heavy_truck_sales</th>\n",
       "      <th>light_truck_sales</th>\n",
       "    </tr>\n",
       "  </thead>\n",
       "  <tbody>\n",
       "    <tr>\n",
       "      <th>593</th>\n",
       "      <td>2016</td>\n",
       "      <td>605400.0</td>\n",
       "      <td>35700.0</td>\n",
       "      <td>908600.0</td>\n",
       "    </tr>\n",
       "    <tr>\n",
       "      <th>594</th>\n",
       "      <td>2016</td>\n",
       "      <td>591500.0</td>\n",
       "      <td>30100.0</td>\n",
       "      <td>925900.0</td>\n",
       "    </tr>\n",
       "    <tr>\n",
       "      <th>595</th>\n",
       "      <td>2016</td>\n",
       "      <td>580800.0</td>\n",
       "      <td>33600.0</td>\n",
       "      <td>926400.0</td>\n",
       "    </tr>\n",
       "    <tr>\n",
       "      <th>596</th>\n",
       "      <td>2016</td>\n",
       "      <td>556300.0</td>\n",
       "      <td>32400.0</td>\n",
       "      <td>874700.0</td>\n",
       "    </tr>\n",
       "    <tr>\n",
       "      <th>597</th>\n",
       "      <td>2016</td>\n",
       "      <td>507200.0</td>\n",
       "      <td>29900.0</td>\n",
       "      <td>861300.0</td>\n",
       "    </tr>\n",
       "  </tbody>\n",
       "</table>\n",
       "</div>"
      ],
      "text/plain": [
       "     date  auto_sales heavy_truck_sales light_truck_sales\n",
       "593  2016    605400.0           35700.0          908600.0\n",
       "594  2016    591500.0           30100.0          925900.0\n",
       "595  2016    580800.0           33600.0          926400.0\n",
       "596  2016    556300.0           32400.0          874700.0\n",
       "597  2016    507200.0           29900.0          861300.0"
      ]
     },
     "execution_count": 6,
     "metadata": {},
     "output_type": "execute_result"
    }
   ],
   "source": [
    "#recent_sales=pd.to_numeric(recent_sales['date'],downcast=\"int\")\n",
    "recent_sales['auto_sales']=pd.to_numeric(recent_sales['auto_sales'],downcast=\"float\")\n",
    "#recent_sales=pd.to_numeric(recent_sales['heavy_truck_sales'],downcast=\"float\")\n",
    "#recent_sales=pd.to_numeric(recent_sales['light_truck_sales'],downcast=\"float\")\n",
    "\n",
    "recent_sales.head()\n",
    "#recent_sales.groupby(recent_sales['date']).mean()"
   ]
  },
  {
   "cell_type": "code",
   "execution_count": 9,
   "id": "5a8c1e37",
   "metadata": {
    "scrolled": true
   },
   "outputs": [
    {
     "data": {
      "text/html": [
       "<div>\n",
       "<style scoped>\n",
       "    .dataframe tbody tr th:only-of-type {\n",
       "        vertical-align: middle;\n",
       "    }\n",
       "\n",
       "    .dataframe tbody tr th {\n",
       "        vertical-align: top;\n",
       "    }\n",
       "\n",
       "    .dataframe thead th {\n",
       "        text-align: right;\n",
       "    }\n",
       "</style>\n",
       "<table border=\"1\" class=\"dataframe\">\n",
       "  <thead>\n",
       "    <tr style=\"text-align: right;\">\n",
       "      <th></th>\n",
       "      <th>auto_sales</th>\n",
       "    </tr>\n",
       "    <tr>\n",
       "      <th>date</th>\n",
       "      <th></th>\n",
       "    </tr>\n",
       "  </thead>\n",
       "  <tbody>\n",
       "    <tr>\n",
       "      <th>2016</th>\n",
       "      <td>564514.31250</td>\n",
       "    </tr>\n",
       "    <tr>\n",
       "      <th>2017</th>\n",
       "      <td>507433.34375</td>\n",
       "    </tr>\n",
       "    <tr>\n",
       "      <th>2018</th>\n",
       "      <td>442516.65625</td>\n",
       "    </tr>\n",
       "    <tr>\n",
       "      <th>2019</th>\n",
       "      <td>393316.65625</td>\n",
       "    </tr>\n",
       "    <tr>\n",
       "      <th>2020</th>\n",
       "      <td>283483.34375</td>\n",
       "    </tr>\n",
       "    <tr>\n",
       "      <th>2021</th>\n",
       "      <td>322560.00000</td>\n",
       "    </tr>\n",
       "  </tbody>\n",
       "</table>\n",
       "</div>"
      ],
      "text/plain": [
       "        auto_sales\n",
       "date              \n",
       "2016  564514.31250\n",
       "2017  507433.34375\n",
       "2018  442516.65625\n",
       "2019  393316.65625\n",
       "2020  283483.34375\n",
       "2021  322560.00000"
      ]
     },
     "execution_count": 9,
     "metadata": {},
     "output_type": "execute_result"
    }
   ],
   "source": [
    "recent_sales.groupby(recent_sales['date']).mean()"
   ]
  },
  {
   "cell_type": "code",
   "execution_count": null,
   "id": "1e57db21",
   "metadata": {},
   "outputs": [],
   "source": []
  }
 ],
 "metadata": {
  "kernelspec": {
   "display_name": "Python 3",
   "language": "python",
   "name": "python3"
  },
  "language_info": {
   "codemirror_mode": {
    "name": "ipython",
    "version": 3
   },
   "file_extension": ".py",
   "mimetype": "text/x-python",
   "name": "python",
   "nbconvert_exporter": "python",
   "pygments_lexer": "ipython3",
   "version": "3.8.8"
  }
 },
 "nbformat": 4,
 "nbformat_minor": 5
}
